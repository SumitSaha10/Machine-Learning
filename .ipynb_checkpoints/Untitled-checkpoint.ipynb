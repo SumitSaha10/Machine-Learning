{
 "cells": [
  {
   "cell_type": "code",
   "execution_count": 1,
   "id": "f97ed4e4",
   "metadata": {},
   "outputs": [],
   "source": [
    "import numpy as np"
   ]
  },
  {
   "cell_type": "code",
   "execution_count": 6,
   "id": "a06f199a",
   "metadata": {},
   "outputs": [],
   "source": [
    "myarr = np.array([2,1,3,1])"
   ]
  },
  {
   "cell_type": "code",
   "execution_count": 7,
   "id": "c4ad55d1",
   "metadata": {},
   "outputs": [
    {
     "name": "stdout",
     "output_type": "stream",
     "text": [
      "[2 1 3 1]\n"
     ]
    }
   ],
   "source": [
    "print(myarr)"
   ]
  },
  {
   "cell_type": "code",
   "execution_count": null,
   "id": "f0952060",
   "metadata": {},
   "outputs": [],
   "source": [
    "print(myarr.shape)"
   ]
  }
 ],
 "metadata": {
  "kernelspec": {
   "display_name": "Python 3 (ipykernel)",
   "language": "python",
   "name": "python3"
  },
  "language_info": {
   "codemirror_mode": {
    "name": "ipython",
    "version": 3
   },
   "file_extension": ".py",
   "mimetype": "text/x-python",
   "name": "python",
   "nbconvert_exporter": "python",
   "pygments_lexer": "ipython3",
   "version": "3.10.8"
  }
 },
 "nbformat": 4,
 "nbformat_minor": 5
}
